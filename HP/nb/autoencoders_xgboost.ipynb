{
 "cells": [
  {
   "cell_type": "code",
   "execution_count": 90,
   "metadata": {},
   "outputs": [],
   "source": [
    "import pandas as pd\n",
    "import numpy as np"
   ]
  },
  {
   "cell_type": "code",
   "execution_count": 91,
   "metadata": {},
   "outputs": [
    {
     "data": {
      "text/html": [
       "<div>\n",
       "<style scoped>\n",
       "    .dataframe tbody tr th:only-of-type {\n",
       "        vertical-align: middle;\n",
       "    }\n",
       "\n",
       "    .dataframe tbody tr th {\n",
       "        vertical-align: top;\n",
       "    }\n",
       "\n",
       "    .dataframe thead th {\n",
       "        text-align: right;\n",
       "    }\n",
       "</style>\n",
       "<table border=\"1\" class=\"dataframe\">\n",
       "  <thead>\n",
       "    <tr style=\"text-align: right;\">\n",
       "      <th></th>\n",
       "      <th>embedding</th>\n",
       "      <th>gt</th>\n",
       "      <th>product_id</th>\n",
       "    </tr>\n",
       "  </thead>\n",
       "  <tbody>\n",
       "    <tr>\n",
       "      <th>0</th>\n",
       "      <td>[-0.07581986 -1.0008311  -0.17027485 -0.30064806]</td>\n",
       "      <td>35.0</td>\n",
       "      <td>6909</td>\n",
       "    </tr>\n",
       "    <tr>\n",
       "      <th>1</th>\n",
       "      <td>[-0.12546918 -0.99800307 -0.12940243 -0.32935148]</td>\n",
       "      <td>70.0</td>\n",
       "      <td>6909</td>\n",
       "    </tr>\n",
       "    <tr>\n",
       "      <th>2</th>\n",
       "      <td>[-0.11825792 -0.99960494 -0.13386402 -0.32566485]</td>\n",
       "      <td>137.0</td>\n",
       "      <td>6909</td>\n",
       "    </tr>\n",
       "    <tr>\n",
       "      <th>3</th>\n",
       "      <td>[-0.15743713 -0.9984799  -0.10203394 -0.3480346 ]</td>\n",
       "      <td>274.0</td>\n",
       "      <td>6909</td>\n",
       "    </tr>\n",
       "    <tr>\n",
       "      <th>4</th>\n",
       "      <td>[-0.14252292 -0.9991128  -0.11403638 -0.3395455 ]</td>\n",
       "      <td>333.0</td>\n",
       "      <td>6909</td>\n",
       "    </tr>\n",
       "    <tr>\n",
       "      <th>...</th>\n",
       "      <td>...</td>\n",
       "      <td>...</td>\n",
       "      <td>...</td>\n",
       "    </tr>\n",
       "    <tr>\n",
       "      <th>7704</th>\n",
       "      <td>[-0.0235827  -1.0026313  -0.2061916  -0.27344364]</td>\n",
       "      <td>44.0</td>\n",
       "      <td>247737</td>\n",
       "    </tr>\n",
       "    <tr>\n",
       "      <th>7705</th>\n",
       "      <td>[-0.08334108 -1.0014222  -0.15993714 -0.306581  ]</td>\n",
       "      <td>30.0</td>\n",
       "      <td>247737</td>\n",
       "    </tr>\n",
       "    <tr>\n",
       "      <th>7706</th>\n",
       "      <td>[-0.07737647 -1.0026553  -0.16350313 -0.30359122]</td>\n",
       "      <td>37.0</td>\n",
       "      <td>247737</td>\n",
       "    </tr>\n",
       "    <tr>\n",
       "      <th>7707</th>\n",
       "      <td>[-0.11576617 -1.0017638  -0.13224027 -0.32551962]</td>\n",
       "      <td>65.0</td>\n",
       "      <td>247737</td>\n",
       "    </tr>\n",
       "    <tr>\n",
       "      <th>7708</th>\n",
       "      <td>[-0.09968835 -1.0027409  -0.14507854 -0.3163801 ]</td>\n",
       "      <td>79.0</td>\n",
       "      <td>247737</td>\n",
       "    </tr>\n",
       "  </tbody>\n",
       "</table>\n",
       "<p>7709 rows × 3 columns</p>\n",
       "</div>"
      ],
      "text/plain": [
       "                                              embedding     gt  product_id\n",
       "0     [-0.07581986 -1.0008311  -0.17027485 -0.30064806]   35.0        6909\n",
       "1     [-0.12546918 -0.99800307 -0.12940243 -0.32935148]   70.0        6909\n",
       "2     [-0.11825792 -0.99960494 -0.13386402 -0.32566485]  137.0        6909\n",
       "3     [-0.15743713 -0.9984799  -0.10203394 -0.3480346 ]  274.0        6909\n",
       "4     [-0.14252292 -0.9991128  -0.11403638 -0.3395455 ]  333.0        6909\n",
       "...                                                 ...    ...         ...\n",
       "7704  [-0.0235827  -1.0026313  -0.2061916  -0.27344364]   44.0      247737\n",
       "7705  [-0.08334108 -1.0014222  -0.15993714 -0.306581  ]   30.0      247737\n",
       "7706  [-0.07737647 -1.0026553  -0.16350313 -0.30359122]   37.0      247737\n",
       "7707  [-0.11576617 -1.0017638  -0.13224027 -0.32551962]   65.0      247737\n",
       "7708  [-0.09968835 -1.0027409  -0.14507854 -0.3163801 ]   79.0      247737\n",
       "\n",
       "[7709 rows x 3 columns]"
      ]
     },
     "execution_count": 91,
     "metadata": {},
     "output_type": "execute_result"
    }
   ],
   "source": [
    "encoded = pd.read_csv('../Datasets/ecoded.csv',sep=';')\n",
    "encoded"
   ]
  },
  {
   "cell_type": "code",
   "execution_count": 92,
   "metadata": {},
   "outputs": [
    {
     "data": {
      "text/plain": [
       "embedding      object\n",
       "gt            float64\n",
       "product_id      int64\n",
       "dtype: object"
      ]
     },
     "execution_count": 92,
     "metadata": {},
     "output_type": "execute_result"
    }
   ],
   "source": [
    "encoded.dtypes"
   ]
  },
  {
   "cell_type": "code",
   "execution_count": 93,
   "metadata": {},
   "outputs": [
    {
     "data": {
      "text/plain": [
       "0       [-0.07581986, -1.0008311, -0.17027485, -0.3006...\n",
       "1       [-0.12546918, -0.99800307, -0.12940243, -0.329...\n",
       "2       [-0.11825792, -0.99960494, -0.13386402, -0.325...\n",
       "3       [-0.15743713, -0.9984799, -0.10203394, -0.3480...\n",
       "4       [-0.14252292, -0.9991128, -0.11403638, -0.3395...\n",
       "                              ...                        \n",
       "7704    [-0.0235827, -1.0026313, -0.2061916, -0.27344364]\n",
       "7705    [-0.08334108, -1.0014222, -0.15993714, -0.306581]\n",
       "7706    [-0.07737647, -1.0026553, -0.16350313, -0.3035...\n",
       "7707    [-0.11576617, -1.0017638, -0.13224027, -0.3255...\n",
       "7708    [-0.09968835, -1.0027409, -0.14507854, -0.3163...\n",
       "Name: embedding, Length: 7709, dtype: object"
      ]
     },
     "execution_count": 93,
     "metadata": {},
     "output_type": "execute_result"
    }
   ],
   "source": [
    "encoded.embedding = encoded.embedding.map(lambda x: [float(num) for num in x[1:-1].split(' ') if num != ''])\n",
    "encoded.embedding"
   ]
  },
  {
   "cell_type": "code",
   "execution_count": 94,
   "metadata": {},
   "outputs": [
    {
     "data": {
      "text/html": [
       "<div>\n",
       "<style scoped>\n",
       "    .dataframe tbody tr th:only-of-type {\n",
       "        vertical-align: middle;\n",
       "    }\n",
       "\n",
       "    .dataframe tbody tr th {\n",
       "        vertical-align: top;\n",
       "    }\n",
       "\n",
       "    .dataframe thead th {\n",
       "        text-align: right;\n",
       "    }\n",
       "</style>\n",
       "<table border=\"1\" class=\"dataframe\">\n",
       "  <thead>\n",
       "    <tr style=\"text-align: right;\">\n",
       "      <th></th>\n",
       "      <th>embedding_1</th>\n",
       "      <th>embedding_2</th>\n",
       "      <th>embedding_3</th>\n",
       "      <th>embedding_4</th>\n",
       "    </tr>\n",
       "  </thead>\n",
       "  <tbody>\n",
       "    <tr>\n",
       "      <th>0</th>\n",
       "      <td>-0.075820</td>\n",
       "      <td>-1.000831</td>\n",
       "      <td>-0.170275</td>\n",
       "      <td>-0.300648</td>\n",
       "    </tr>\n",
       "    <tr>\n",
       "      <th>1</th>\n",
       "      <td>-0.125469</td>\n",
       "      <td>-0.998003</td>\n",
       "      <td>-0.129402</td>\n",
       "      <td>-0.329351</td>\n",
       "    </tr>\n",
       "    <tr>\n",
       "      <th>2</th>\n",
       "      <td>-0.118258</td>\n",
       "      <td>-0.999605</td>\n",
       "      <td>-0.133864</td>\n",
       "      <td>-0.325665</td>\n",
       "    </tr>\n",
       "    <tr>\n",
       "      <th>3</th>\n",
       "      <td>-0.157437</td>\n",
       "      <td>-0.998480</td>\n",
       "      <td>-0.102034</td>\n",
       "      <td>-0.348035</td>\n",
       "    </tr>\n",
       "    <tr>\n",
       "      <th>4</th>\n",
       "      <td>-0.142523</td>\n",
       "      <td>-0.999113</td>\n",
       "      <td>-0.114036</td>\n",
       "      <td>-0.339546</td>\n",
       "    </tr>\n",
       "    <tr>\n",
       "      <th>...</th>\n",
       "      <td>...</td>\n",
       "      <td>...</td>\n",
       "      <td>...</td>\n",
       "      <td>...</td>\n",
       "    </tr>\n",
       "    <tr>\n",
       "      <th>7704</th>\n",
       "      <td>-0.023583</td>\n",
       "      <td>-1.002631</td>\n",
       "      <td>-0.206192</td>\n",
       "      <td>-0.273444</td>\n",
       "    </tr>\n",
       "    <tr>\n",
       "      <th>7705</th>\n",
       "      <td>-0.083341</td>\n",
       "      <td>-1.001422</td>\n",
       "      <td>-0.159937</td>\n",
       "      <td>-0.306581</td>\n",
       "    </tr>\n",
       "    <tr>\n",
       "      <th>7706</th>\n",
       "      <td>-0.077376</td>\n",
       "      <td>-1.002655</td>\n",
       "      <td>-0.163503</td>\n",
       "      <td>-0.303591</td>\n",
       "    </tr>\n",
       "    <tr>\n",
       "      <th>7707</th>\n",
       "      <td>-0.115766</td>\n",
       "      <td>-1.001764</td>\n",
       "      <td>-0.132240</td>\n",
       "      <td>-0.325520</td>\n",
       "    </tr>\n",
       "    <tr>\n",
       "      <th>7708</th>\n",
       "      <td>-0.099688</td>\n",
       "      <td>-1.002741</td>\n",
       "      <td>-0.145079</td>\n",
       "      <td>-0.316380</td>\n",
       "    </tr>\n",
       "  </tbody>\n",
       "</table>\n",
       "<p>7709 rows × 4 columns</p>\n",
       "</div>"
      ],
      "text/plain": [
       "      embedding_1  embedding_2  embedding_3  embedding_4\n",
       "0       -0.075820    -1.000831    -0.170275    -0.300648\n",
       "1       -0.125469    -0.998003    -0.129402    -0.329351\n",
       "2       -0.118258    -0.999605    -0.133864    -0.325665\n",
       "3       -0.157437    -0.998480    -0.102034    -0.348035\n",
       "4       -0.142523    -0.999113    -0.114036    -0.339546\n",
       "...           ...          ...          ...          ...\n",
       "7704    -0.023583    -1.002631    -0.206192    -0.273444\n",
       "7705    -0.083341    -1.001422    -0.159937    -0.306581\n",
       "7706    -0.077376    -1.002655    -0.163503    -0.303591\n",
       "7707    -0.115766    -1.001764    -0.132240    -0.325520\n",
       "7708    -0.099688    -1.002741    -0.145079    -0.316380\n",
       "\n",
       "[7709 rows x 4 columns]"
      ]
     },
     "metadata": {},
     "output_type": "display_data"
    },
    {
     "data": {
      "text/html": [
       "<div>\n",
       "<style scoped>\n",
       "    .dataframe tbody tr th:only-of-type {\n",
       "        vertical-align: middle;\n",
       "    }\n",
       "\n",
       "    .dataframe tbody tr th {\n",
       "        vertical-align: top;\n",
       "    }\n",
       "\n",
       "    .dataframe thead th {\n",
       "        text-align: right;\n",
       "    }\n",
       "</style>\n",
       "<table border=\"1\" class=\"dataframe\">\n",
       "  <thead>\n",
       "    <tr style=\"text-align: right;\">\n",
       "      <th></th>\n",
       "      <th>gt</th>\n",
       "      <th>product_id</th>\n",
       "      <th>embedding_1</th>\n",
       "      <th>embedding_2</th>\n",
       "      <th>embedding_3</th>\n",
       "      <th>embedding_4</th>\n",
       "    </tr>\n",
       "  </thead>\n",
       "  <tbody>\n",
       "    <tr>\n",
       "      <th>0</th>\n",
       "      <td>35.0</td>\n",
       "      <td>6909</td>\n",
       "      <td>-0.075820</td>\n",
       "      <td>-1.000831</td>\n",
       "      <td>-0.170275</td>\n",
       "      <td>-0.300648</td>\n",
       "    </tr>\n",
       "    <tr>\n",
       "      <th>1</th>\n",
       "      <td>70.0</td>\n",
       "      <td>6909</td>\n",
       "      <td>-0.125469</td>\n",
       "      <td>-0.998003</td>\n",
       "      <td>-0.129402</td>\n",
       "      <td>-0.329351</td>\n",
       "    </tr>\n",
       "    <tr>\n",
       "      <th>2</th>\n",
       "      <td>137.0</td>\n",
       "      <td>6909</td>\n",
       "      <td>-0.118258</td>\n",
       "      <td>-0.999605</td>\n",
       "      <td>-0.133864</td>\n",
       "      <td>-0.325665</td>\n",
       "    </tr>\n",
       "    <tr>\n",
       "      <th>3</th>\n",
       "      <td>274.0</td>\n",
       "      <td>6909</td>\n",
       "      <td>-0.157437</td>\n",
       "      <td>-0.998480</td>\n",
       "      <td>-0.102034</td>\n",
       "      <td>-0.348035</td>\n",
       "    </tr>\n",
       "    <tr>\n",
       "      <th>4</th>\n",
       "      <td>333.0</td>\n",
       "      <td>6909</td>\n",
       "      <td>-0.142523</td>\n",
       "      <td>-0.999113</td>\n",
       "      <td>-0.114036</td>\n",
       "      <td>-0.339546</td>\n",
       "    </tr>\n",
       "    <tr>\n",
       "      <th>...</th>\n",
       "      <td>...</td>\n",
       "      <td>...</td>\n",
       "      <td>...</td>\n",
       "      <td>...</td>\n",
       "      <td>...</td>\n",
       "      <td>...</td>\n",
       "    </tr>\n",
       "    <tr>\n",
       "      <th>7704</th>\n",
       "      <td>44.0</td>\n",
       "      <td>247737</td>\n",
       "      <td>-0.023583</td>\n",
       "      <td>-1.002631</td>\n",
       "      <td>-0.206192</td>\n",
       "      <td>-0.273444</td>\n",
       "    </tr>\n",
       "    <tr>\n",
       "      <th>7705</th>\n",
       "      <td>30.0</td>\n",
       "      <td>247737</td>\n",
       "      <td>-0.083341</td>\n",
       "      <td>-1.001422</td>\n",
       "      <td>-0.159937</td>\n",
       "      <td>-0.306581</td>\n",
       "    </tr>\n",
       "    <tr>\n",
       "      <th>7706</th>\n",
       "      <td>37.0</td>\n",
       "      <td>247737</td>\n",
       "      <td>-0.077376</td>\n",
       "      <td>-1.002655</td>\n",
       "      <td>-0.163503</td>\n",
       "      <td>-0.303591</td>\n",
       "    </tr>\n",
       "    <tr>\n",
       "      <th>7707</th>\n",
       "      <td>65.0</td>\n",
       "      <td>247737</td>\n",
       "      <td>-0.115766</td>\n",
       "      <td>-1.001764</td>\n",
       "      <td>-0.132240</td>\n",
       "      <td>-0.325520</td>\n",
       "    </tr>\n",
       "    <tr>\n",
       "      <th>7708</th>\n",
       "      <td>79.0</td>\n",
       "      <td>247737</td>\n",
       "      <td>-0.099688</td>\n",
       "      <td>-1.002741</td>\n",
       "      <td>-0.145079</td>\n",
       "      <td>-0.316380</td>\n",
       "    </tr>\n",
       "  </tbody>\n",
       "</table>\n",
       "<p>7709 rows × 6 columns</p>\n",
       "</div>"
      ],
      "text/plain": [
       "         gt  product_id  embedding_1  embedding_2  embedding_3  embedding_4\n",
       "0      35.0        6909    -0.075820    -1.000831    -0.170275    -0.300648\n",
       "1      70.0        6909    -0.125469    -0.998003    -0.129402    -0.329351\n",
       "2     137.0        6909    -0.118258    -0.999605    -0.133864    -0.325665\n",
       "3     274.0        6909    -0.157437    -0.998480    -0.102034    -0.348035\n",
       "4     333.0        6909    -0.142523    -0.999113    -0.114036    -0.339546\n",
       "...     ...         ...          ...          ...          ...          ...\n",
       "7704   44.0      247737    -0.023583    -1.002631    -0.206192    -0.273444\n",
       "7705   30.0      247737    -0.083341    -1.001422    -0.159937    -0.306581\n",
       "7706   37.0      247737    -0.077376    -1.002655    -0.163503    -0.303591\n",
       "7707   65.0      247737    -0.115766    -1.001764    -0.132240    -0.325520\n",
       "7708   79.0      247737    -0.099688    -1.002741    -0.145079    -0.316380\n",
       "\n",
       "[7709 rows x 6 columns]"
      ]
     },
     "execution_count": 94,
     "metadata": {},
     "output_type": "execute_result"
    }
   ],
   "source": [
    "embeddings = pd.DataFrame(encoded.embedding.to_list(), columns=['embedding_1','embedding_2','embedding_3','embedding_4'])\n",
    "display(embeddings)\n",
    "encoded = pd.concat([encoded,embeddings],axis=1).drop(columns=['embedding'])\n",
    "encoded"
   ]
  },
  {
   "cell_type": "code",
   "execution_count": 95,
   "metadata": {},
   "outputs": [
    {
     "data": {
      "text/plain": [
       "0        35.0\n",
       "1        70.0\n",
       "2       137.0\n",
       "3       274.0\n",
       "4       333.0\n",
       "        ...  \n",
       "7704     44.0\n",
       "7705     30.0\n",
       "7706     37.0\n",
       "7707     65.0\n",
       "7708     79.0\n",
       "Name: gt, Length: 7709, dtype: float64"
      ]
     },
     "execution_count": 95,
     "metadata": {},
     "output_type": "execute_result"
    }
   ],
   "source": [
    "X = encoded.drop(columns=['gt','product_id'])\n",
    "Y = encoded['gt']\n",
    "X\n",
    "Y"
   ]
  },
  {
   "cell_type": "code",
   "execution_count": 96,
   "metadata": {},
   "outputs": [],
   "source": [
    "from sklearn.model_selection import train_test_split\n",
    "X_train, X_test, y_train, y_test   = train_test_split(X,Y,shuffle=True,random_state=69)"
   ]
  },
  {
   "cell_type": "code",
   "execution_count": 97,
   "metadata": {},
   "outputs": [
    {
     "data": {
      "text/plain": [
       "{'colsample_bytree': 0.4,\n",
       " 'gamma': 0.0,\n",
       " 'learning_rate': 0.1,\n",
       " 'max_depth': 10,\n",
       " 'min_child_weight': 2,\n",
       " 'n_estimators': 400}"
      ]
     },
     "execution_count": 97,
     "metadata": {},
     "output_type": "execute_result"
    }
   ],
   "source": [
    "import pickle\n",
    "with open('best_params_xgboost_2.pkl','rb') as file2, open('best_params_xgboost.pkl','rb') as file1:\n",
    "    best_params1 = pickle.load(file1)\n",
    "    best_params2 = pickle.load(file2)\n",
    "best_params1\n"
   ]
  },
  {
   "cell_type": "code",
   "execution_count": 98,
   "metadata": {},
   "outputs": [],
   "source": [
    "from sklearn.ensemble import GradientBoostingRegressor\n",
    "\n",
    "xgboost_encoded = GradientBoostingRegressor(**best_params2)\n",
    "\n",
    "result_f_sklearn_gooddf = xgboost_encoded.fit(X_train, y_train)"
   ]
  },
  {
   "cell_type": "code",
   "execution_count": 99,
   "metadata": {},
   "outputs": [
    {
     "name": "stdout",
     "output_type": "stream",
     "text": [
      "train: 66.68456764837829\n",
      "test: 111.94892310939883\n"
     ]
    }
   ],
   "source": [
    "from sklearn.metrics import mean_squared_error\n",
    "\n",
    "y_predicted_test = xgboost_encoded.predict(X_test)\n",
    "y_predicted_train = xgboost_encoded.predict(X_train)\n",
    "\n",
    "rms_test = mean_squared_error(y_test, y_predicted_test, squared=False)\n",
    "rms_train = mean_squared_error(y_train, y_predicted_train, squared=False)\n",
    "print(f'train: {rms_train}\\ntest: {rms_test}')"
   ]
  },
  {
   "cell_type": "code",
   "execution_count": 100,
   "metadata": {},
   "outputs": [
    {
     "name": "stderr",
     "output_type": "stream",
     "text": [
      "[Parallel(n_jobs=-1)]: Using backend LokyBackend with 12 concurrent workers.\n"
     ]
    },
    {
     "name": "stdout",
     "output_type": "stream",
     "text": [
      "Fitting 5 folds for each of 128 candidates, totalling 640 fits\n"
     ]
    },
    {
     "name": "stderr",
     "output_type": "stream",
     "text": [
      "[Parallel(n_jobs=-1)]: Done   1 tasks      | elapsed:    4.6s\n",
      "[Parallel(n_jobs=-1)]: Done   8 tasks      | elapsed:    4.7s\n",
      "[Parallel(n_jobs=-1)]: Done  17 tasks      | elapsed:    5.5s\n",
      "[Parallel(n_jobs=-1)]: Done  26 tasks      | elapsed:    6.2s\n",
      "[Parallel(n_jobs=-1)]: Done  37 tasks      | elapsed:    6.9s\n",
      "[Parallel(n_jobs=-1)]: Done  48 tasks      | elapsed:    7.6s\n",
      "[Parallel(n_jobs=-1)]: Done  61 tasks      | elapsed:    8.2s\n",
      "[Parallel(n_jobs=-1)]: Done  74 tasks      | elapsed:    8.9s\n",
      "[Parallel(n_jobs=-1)]: Done  89 tasks      | elapsed:   10.6s\n",
      "[Parallel(n_jobs=-1)]: Done 104 tasks      | elapsed:   11.9s\n",
      "[Parallel(n_jobs=-1)]: Done 121 tasks      | elapsed:   13.9s\n",
      "[Parallel(n_jobs=-1)]: Done 138 tasks      | elapsed:   16.0s\n",
      "[Parallel(n_jobs=-1)]: Done 157 tasks      | elapsed:   17.5s\n",
      "[Parallel(n_jobs=-1)]: Done 176 tasks      | elapsed:   18.7s\n",
      "[Parallel(n_jobs=-1)]: Done 197 tasks      | elapsed:   19.8s\n",
      "[Parallel(n_jobs=-1)]: Done 218 tasks      | elapsed:   21.2s\n",
      "[Parallel(n_jobs=-1)]: Done 241 tasks      | elapsed:   22.9s\n",
      "[Parallel(n_jobs=-1)]: Done 264 tasks      | elapsed:   24.9s\n",
      "[Parallel(n_jobs=-1)]: Done 289 tasks      | elapsed:   27.7s\n",
      "[Parallel(n_jobs=-1)]: Done 314 tasks      | elapsed:   30.0s\n",
      "[Parallel(n_jobs=-1)]: Done 341 tasks      | elapsed:   31.8s\n",
      "[Parallel(n_jobs=-1)]: Done 368 tasks      | elapsed:   33.4s\n",
      "[Parallel(n_jobs=-1)]: Done 397 tasks      | elapsed:   35.6s\n",
      "[Parallel(n_jobs=-1)]: Done 426 tasks      | elapsed:   39.0s\n",
      "[Parallel(n_jobs=-1)]: Done 457 tasks      | elapsed:   43.4s\n",
      "[Parallel(n_jobs=-1)]: Done 488 tasks      | elapsed:   46.2s\n",
      "[Parallel(n_jobs=-1)]: Done 521 tasks      | elapsed:   48.2s\n",
      "[Parallel(n_jobs=-1)]: Done 554 tasks      | elapsed:   50.2s\n",
      "[Parallel(n_jobs=-1)]: Done 589 tasks      | elapsed:   54.2s\n",
      "[Parallel(n_jobs=-1)]: Done 640 out of 640 | elapsed:   59.4s finished\n"
     ]
    }
   ],
   "source": [
    "from sklearn.model_selection import GridSearchCV\n",
    "\n",
    "gsc1 = GridSearchCV(\n",
    "            estimator=GradientBoostingRegressor(),\n",
    "            param_grid={\"n_estimators\": list(range(60,80,10)),\n",
    "                        \"learning_rate\": [0.1,0.05],\n",
    "                        \"max_depth\": [5,10],#,20],\n",
    "                        'min_impurity_decrease':[2],#,10],\n",
    "                        'min_samples_split':[50,100],\n",
    "                        'min_samples_leaf':[10,20],\n",
    "                        'max_features':['auto'],\n",
    "                        'max_leaf_nodes':list(range(100,300,100)),\n",
    "                        'ccp_alpha':[0.1,0.5]},\n",
    "            cv=5, scoring='neg_root_mean_squared_error', verbose=10, n_jobs=-1)\n",
    "\n",
    "grid_result_encoded = gsc1.fit(X_train, y_train)"
   ]
  },
  {
   "cell_type": "code",
   "execution_count": 101,
   "metadata": {},
   "outputs": [
    {
     "name": "stdout",
     "output_type": "stream",
     "text": [
      "train:-91.48912846917312\n",
      "test:-106.76120430417743\n"
     ]
    }
   ],
   "source": [
    "print(f'train:{grid_result_encoded.score(X_train,y_train)}\\ntest:{grid_result_encoded.score(X_test, y_test)}')\n",
    "results = (grid_result_encoded.score(X_train,y_train), grid_result_encoded.score(X_test, y_test))\n",
    "# rmse.append(results)"
   ]
  },
  {
   "cell_type": "code",
   "execution_count": 102,
   "metadata": {},
   "outputs": [
    {
     "data": {
      "text/plain": [
       "{'ccp_alpha': 0.5,\n",
       " 'learning_rate': 0.05,\n",
       " 'max_depth': 10,\n",
       " 'max_features': 'auto',\n",
       " 'max_leaf_nodes': 100,\n",
       " 'min_impurity_decrease': 2,\n",
       " 'min_samples_leaf': 20,\n",
       " 'min_samples_split': 50,\n",
       " 'n_estimators': 60}"
      ]
     },
     "execution_count": 102,
     "metadata": {},
     "output_type": "execute_result"
    }
   ],
   "source": [
    "grid_result_encoded.best_params_"
   ]
  },
  {
   "cell_type": "code",
   "execution_count": null,
   "metadata": {},
   "outputs": [],
   "source": []
  }
 ],
 "metadata": {
  "kernelspec": {
   "display_name": "Python (torch)",
   "language": "python",
   "name": "torch"
  },
  "language_info": {
   "codemirror_mode": {
    "name": "ipython",
    "version": 3
   },
   "file_extension": ".py",
   "mimetype": "text/x-python",
   "name": "python",
   "nbconvert_exporter": "python",
   "pygments_lexer": "ipython3",
   "version": "3.8.16"
  },
  "orig_nbformat": 4
 },
 "nbformat": 4,
 "nbformat_minor": 2
}
