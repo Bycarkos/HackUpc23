{
 "cells": [
  {
   "cell_type": "code",
   "execution_count": 4,
   "metadata": {},
   "outputs": [],
   "source": [
    "# Importing necessary libraries\n",
    "\n",
    "import pandas as pd\n",
    "import numpy as np\n",
    "\n",
    "import xgboost as xgb\n",
    "from sklearn.model_selection import GridSearchCV\n",
    "\n",
    "import seaborn as sns\n",
    "\n",
    "import pickle\n",
    "from sklearn.ensemble import GradientBoostingRegressor\n",
    "from sklearn.metrics import mean_squared_error\n",
    "\n",
    "from sklearn.model_selection import train_test_split\n",
    "import catboost as cb"
   ]
  },
  {
   "cell_type": "code",
   "execution_count": 5,
   "metadata": {},
   "outputs": [],
   "source": [
    "# Read the CSV file into a new dataframe object\n",
    "new_df = pd.read_csv('../Datasets/new_df.csv')\n",
    "\n",
    "# Read an alternate CSV file into the same dataframe object (commented out)\n",
    "#new_df = pd.read_csv('../Datasets/dfNaLinear.csv')\n",
    "#new_df = new_df.drop(columns = [\"Unnamed: 0\"])"
   ]
  },
  {
   "cell_type": "code",
   "execution_count": 6,
   "metadata": {},
   "outputs": [],
   "source": [
    "# Drop the 'sales_units' column from the 'new_df' dataframe\n",
    "new_df = new_df.drop(columns = [\"sales_units\"])\n",
    "\n",
    "# Drop the 'id' column from the 'new_df' dataframe\n",
    "new_df = new_df.drop(['id'],axis=1)"
   ]
  },
  {
   "cell_type": "code",
   "execution_count": 7,
   "metadata": {},
   "outputs": [],
   "source": [
    "# Extract the last two characters of the 'year_week' column and create a new column called 'nweek'\n",
    "new_df['nweek'] = new_df['year_week'].map(lambda x: str(x)[-2:])\n",
    "\n",
    "# Convert the 'nweek' column to an integer data type\n",
    "new_df['nweek'] = new_df['nweek'].astype(np.int64)\n",
    "\n",
    "# Convert the 'date' column to a pandas datetime data type\n",
    "new_df['date'] = pd.to_datetime(new_df['date'])\n",
    "\n",
    "# Extract the year, month, and day from the 'date' column and create separate columns for each\n",
    "new_df['year'], new_df['month'], new_df['day'] = new_df['date'].dt.year, new_df['date'].dt.month, new_df['date'].dt.day\n",
    "\n",
    "# Remove the 'date' column from the DataFrame\n",
    "new_df = new_df.drop(['date'], axis=1)\n",
    "\n",
    "# Remove the 'year_week', 'month', and 'day' columns from the DataFrame\n",
    "new_df = new_df.drop(columns=['year_week', 'month', 'day'])"
   ]
  },
  {
   "cell_type": "code",
   "execution_count": 8,
   "metadata": {},
   "outputs": [],
   "source": [
    "# Create a new dataframe 'X' by dropping the 'inventory_units' and 'setmana' columns from 'new_df'\n",
    "X = new_df.drop(columns=['inventory_units','setmana'])\n",
    "\n",
    "# Create a new series 'Y' by selecting the 'inventory_units' column from 'new_df'\n",
    "Y = new_df['inventory_units']"
   ]
  },
  {
   "cell_type": "code",
   "execution_count": 9,
   "metadata": {},
   "outputs": [],
   "source": [
    "# Split the 'X' and 'Y' data into training and testing datasets using the 'train_test_split' function from sklearn\n",
    "# The 'shuffle' parameter is set to 'True' to shuffle the data before splitting, and the 'random_state' parameter is set to 69 to ensure reproducibility of results\n",
    "X_train, X_test, y_train, y_test = train_test_split(X, Y, shuffle=True, random_state=69)"
   ]
  },
  {
   "cell_type": "code",
   "execution_count": 10,
   "metadata": {},
   "outputs": [
    {
     "name": "stdout",
     "output_type": "stream",
     "text": [
      "0:\tlearn: 111.6821853\ttotal: 154ms\tremaining: 22.9s\n",
      "1:\tlearn: 105.6724843\ttotal: 167ms\tremaining: 12.4s\n",
      "2:\tlearn: 101.2079709\ttotal: 183ms\tremaining: 8.96s\n",
      "3:\tlearn: 97.4264917\ttotal: 203ms\tremaining: 7.41s\n",
      "4:\tlearn: 94.6601193\ttotal: 216ms\tremaining: 6.26s\n",
      "5:\tlearn: 92.8010181\ttotal: 229ms\tremaining: 5.49s\n",
      "6:\tlearn: 90.9249589\ttotal: 241ms\tremaining: 4.92s\n",
      "7:\tlearn: 89.4027650\ttotal: 254ms\tremaining: 4.5s\n",
      "8:\tlearn: 87.9307422\ttotal: 267ms\tremaining: 4.18s\n",
      "9:\tlearn: 86.7180368\ttotal: 284ms\tremaining: 3.97s\n",
      "10:\tlearn: 86.0289787\ttotal: 292ms\tremaining: 3.69s\n",
      "11:\tlearn: 85.5974774\ttotal: 296ms\tremaining: 3.41s\n",
      "12:\tlearn: 84.9601665\ttotal: 309ms\tremaining: 3.25s\n",
      "13:\tlearn: 84.1153259\ttotal: 320ms\tremaining: 3.11s\n",
      "14:\tlearn: 83.1305857\ttotal: 333ms\tremaining: 3s\n",
      "15:\tlearn: 82.6309561\ttotal: 354ms\tremaining: 2.97s\n",
      "16:\tlearn: 81.9343365\ttotal: 374ms\tremaining: 2.92s\n",
      "17:\tlearn: 81.4101533\ttotal: 387ms\tremaining: 2.84s\n",
      "18:\tlearn: 80.9364072\ttotal: 414ms\tremaining: 2.86s\n",
      "19:\tlearn: 80.3462905\ttotal: 446ms\tremaining: 2.9s\n",
      "20:\tlearn: 79.9811201\ttotal: 465ms\tremaining: 2.85s\n",
      "21:\tlearn: 79.3985738\ttotal: 484ms\tremaining: 2.81s\n",
      "22:\tlearn: 78.9561762\ttotal: 508ms\tremaining: 2.8s\n",
      "23:\tlearn: 78.4065255\ttotal: 525ms\tremaining: 2.76s\n",
      "24:\tlearn: 77.9778201\ttotal: 546ms\tremaining: 2.73s\n",
      "25:\tlearn: 77.6248030\ttotal: 562ms\tremaining: 2.68s\n",
      "26:\tlearn: 77.1599542\ttotal: 576ms\tremaining: 2.63s\n",
      "27:\tlearn: 76.8561621\ttotal: 594ms\tremaining: 2.59s\n",
      "28:\tlearn: 76.3313521\ttotal: 616ms\tremaining: 2.57s\n",
      "29:\tlearn: 76.0738370\ttotal: 630ms\tremaining: 2.52s\n",
      "30:\tlearn: 75.6751628\ttotal: 645ms\tremaining: 2.48s\n",
      "31:\tlearn: 75.2863411\ttotal: 658ms\tremaining: 2.43s\n",
      "32:\tlearn: 74.6364307\ttotal: 669ms\tremaining: 2.37s\n",
      "33:\tlearn: 74.3246018\ttotal: 677ms\tremaining: 2.31s\n",
      "34:\tlearn: 74.0043852\ttotal: 687ms\tremaining: 2.26s\n",
      "35:\tlearn: 73.6600648\ttotal: 694ms\tremaining: 2.2s\n",
      "36:\tlearn: 73.4365543\ttotal: 703ms\tremaining: 2.15s\n",
      "37:\tlearn: 72.9715747\ttotal: 711ms\tremaining: 2.1s\n",
      "38:\tlearn: 72.6217606\ttotal: 719ms\tremaining: 2.05s\n",
      "39:\tlearn: 72.5924500\ttotal: 720ms\tremaining: 1.98s\n",
      "40:\tlearn: 72.3753437\ttotal: 728ms\tremaining: 1.94s\n",
      "41:\tlearn: 72.0616044\ttotal: 735ms\tremaining: 1.89s\n",
      "42:\tlearn: 71.6173690\ttotal: 741ms\tremaining: 1.84s\n",
      "43:\tlearn: 71.3785083\ttotal: 749ms\tremaining: 1.8s\n",
      "44:\tlearn: 71.1374578\ttotal: 755ms\tremaining: 1.76s\n",
      "45:\tlearn: 70.7817153\ttotal: 765ms\tremaining: 1.73s\n",
      "46:\tlearn: 70.5183447\ttotal: 773ms\tremaining: 1.69s\n",
      "47:\tlearn: 70.2745913\ttotal: 782ms\tremaining: 1.66s\n",
      "48:\tlearn: 70.0766496\ttotal: 789ms\tremaining: 1.63s\n",
      "49:\tlearn: 69.7359110\ttotal: 799ms\tremaining: 1.6s\n",
      "50:\tlearn: 69.5950131\ttotal: 806ms\tremaining: 1.56s\n",
      "51:\tlearn: 69.1984643\ttotal: 818ms\tremaining: 1.54s\n",
      "52:\tlearn: 68.8928707\ttotal: 833ms\tremaining: 1.52s\n",
      "53:\tlearn: 68.6270580\ttotal: 848ms\tremaining: 1.51s\n",
      "54:\tlearn: 68.1888171\ttotal: 855ms\tremaining: 1.48s\n",
      "55:\tlearn: 67.9333347\ttotal: 865ms\tremaining: 1.45s\n",
      "56:\tlearn: 67.7006855\ttotal: 871ms\tremaining: 1.42s\n",
      "57:\tlearn: 67.3869095\ttotal: 880ms\tremaining: 1.4s\n",
      "58:\tlearn: 67.1401294\ttotal: 886ms\tremaining: 1.37s\n",
      "59:\tlearn: 66.8702035\ttotal: 895ms\tremaining: 1.34s\n",
      "60:\tlearn: 66.6898181\ttotal: 901ms\tremaining: 1.31s\n",
      "61:\tlearn: 66.5251575\ttotal: 910ms\tremaining: 1.29s\n",
      "62:\tlearn: 66.3052138\ttotal: 915ms\tremaining: 1.26s\n",
      "63:\tlearn: 66.0647216\ttotal: 923ms\tremaining: 1.24s\n",
      "64:\tlearn: 65.7952610\ttotal: 929ms\tremaining: 1.22s\n",
      "65:\tlearn: 65.5896177\ttotal: 937ms\tremaining: 1.19s\n",
      "66:\tlearn: 65.4324707\ttotal: 944ms\tremaining: 1.17s\n",
      "67:\tlearn: 65.2323850\ttotal: 950ms\tremaining: 1.15s\n",
      "68:\tlearn: 64.9949377\ttotal: 959ms\tremaining: 1.13s\n",
      "69:\tlearn: 64.8187819\ttotal: 966ms\tremaining: 1.1s\n",
      "70:\tlearn: 64.6647560\ttotal: 974ms\tremaining: 1.08s\n",
      "71:\tlearn: 64.4326008\ttotal: 981ms\tremaining: 1.06s\n",
      "72:\tlearn: 64.1978963\ttotal: 989ms\tremaining: 1.04s\n",
      "73:\tlearn: 63.9927176\ttotal: 995ms\tremaining: 1.02s\n",
      "74:\tlearn: 63.8955159\ttotal: 1s\tremaining: 1s\n",
      "75:\tlearn: 63.6808461\ttotal: 1.01s\tremaining: 983ms\n",
      "76:\tlearn: 63.4316323\ttotal: 1.01s\tremaining: 963ms\n",
      "77:\tlearn: 63.2507480\ttotal: 1.02s\tremaining: 945ms\n",
      "78:\tlearn: 63.0095607\ttotal: 1.03s\tremaining: 927ms\n",
      "79:\tlearn: 62.8550269\ttotal: 1.04s\tremaining: 910ms\n",
      "80:\tlearn: 62.6919346\ttotal: 1.05s\tremaining: 891ms\n",
      "81:\tlearn: 62.5244015\ttotal: 1.05s\tremaining: 875ms\n",
      "82:\tlearn: 62.2250912\ttotal: 1.06s\tremaining: 858ms\n",
      "83:\tlearn: 61.9728119\ttotal: 1.07s\tremaining: 842ms\n",
      "84:\tlearn: 61.7659427\ttotal: 1.08s\tremaining: 825ms\n",
      "85:\tlearn: 61.5649195\ttotal: 1.09s\tremaining: 809ms\n",
      "86:\tlearn: 61.3617547\ttotal: 1.09s\tremaining: 793ms\n",
      "87:\tlearn: 61.1717852\ttotal: 1.1s\tremaining: 778ms\n",
      "88:\tlearn: 61.0395042\ttotal: 1.11s\tremaining: 761ms\n",
      "89:\tlearn: 60.7214507\ttotal: 1.12s\tremaining: 746ms\n",
      "90:\tlearn: 60.5565603\ttotal: 1.13s\tremaining: 730ms\n",
      "91:\tlearn: 60.3460443\ttotal: 1.13s\tremaining: 715ms\n",
      "92:\tlearn: 60.1977620\ttotal: 1.14s\tremaining: 699ms\n",
      "93:\tlearn: 59.9885119\ttotal: 1.15s\tremaining: 684ms\n",
      "94:\tlearn: 59.8559427\ttotal: 1.16s\tremaining: 671ms\n",
      "95:\tlearn: 59.7355058\ttotal: 1.17s\tremaining: 656ms\n",
      "96:\tlearn: 59.6239321\ttotal: 1.17s\tremaining: 640ms\n",
      "97:\tlearn: 59.4890433\ttotal: 1.18s\tremaining: 625ms\n",
      "98:\tlearn: 59.3259640\ttotal: 1.19s\tremaining: 610ms\n",
      "99:\tlearn: 59.1012294\ttotal: 1.19s\tremaining: 595ms\n",
      "100:\tlearn: 58.8924719\ttotal: 1.2s\tremaining: 582ms\n",
      "101:\tlearn: 58.6682666\ttotal: 1.2s\tremaining: 567ms\n",
      "102:\tlearn: 58.4753170\ttotal: 1.21s\tremaining: 553ms\n",
      "103:\tlearn: 58.3163957\ttotal: 1.22s\tremaining: 539ms\n",
      "104:\tlearn: 58.1946935\ttotal: 1.23s\tremaining: 527ms\n",
      "105:\tlearn: 58.0755860\ttotal: 1.24s\tremaining: 513ms\n",
      "106:\tlearn: 57.8977525\ttotal: 1.25s\tremaining: 500ms\n",
      "107:\tlearn: 57.7321521\ttotal: 1.25s\tremaining: 487ms\n",
      "108:\tlearn: 57.6794966\ttotal: 1.26s\tremaining: 474ms\n",
      "109:\tlearn: 57.5551911\ttotal: 1.27s\tremaining: 461ms\n",
      "110:\tlearn: 57.4219514\ttotal: 1.27s\tremaining: 448ms\n",
      "111:\tlearn: 57.2734358\ttotal: 1.28s\tremaining: 435ms\n",
      "112:\tlearn: 57.1858054\ttotal: 1.29s\tremaining: 422ms\n",
      "113:\tlearn: 57.0600672\ttotal: 1.29s\tremaining: 409ms\n",
      "114:\tlearn: 56.9621971\ttotal: 1.3s\tremaining: 396ms\n",
      "115:\tlearn: 56.8675310\ttotal: 1.31s\tremaining: 384ms\n",
      "116:\tlearn: 56.7217108\ttotal: 1.31s\tremaining: 371ms\n",
      "117:\tlearn: 56.5857448\ttotal: 1.32s\tremaining: 358ms\n",
      "118:\tlearn: 56.4285525\ttotal: 1.33s\tremaining: 346ms\n",
      "119:\tlearn: 56.3029351\ttotal: 1.33s\tremaining: 334ms\n",
      "120:\tlearn: 56.1748187\ttotal: 1.34s\tremaining: 322ms\n",
      "121:\tlearn: 56.0922049\ttotal: 1.35s\tremaining: 310ms\n",
      "122:\tlearn: 55.9680530\ttotal: 1.36s\tremaining: 298ms\n",
      "123:\tlearn: 55.7688187\ttotal: 1.36s\tremaining: 286ms\n",
      "124:\tlearn: 55.6921711\ttotal: 1.37s\tremaining: 274ms\n",
      "125:\tlearn: 55.5464089\ttotal: 1.38s\tremaining: 262ms\n",
      "126:\tlearn: 55.3305644\ttotal: 1.38s\tremaining: 251ms\n",
      "127:\tlearn: 55.1431516\ttotal: 1.39s\tremaining: 239ms\n",
      "128:\tlearn: 54.9809533\ttotal: 1.4s\tremaining: 227ms\n",
      "129:\tlearn: 54.8555665\ttotal: 1.4s\tremaining: 216ms\n",
      "130:\tlearn: 54.7329084\ttotal: 1.41s\tremaining: 205ms\n",
      "131:\tlearn: 54.6252145\ttotal: 1.42s\tremaining: 193ms\n",
      "132:\tlearn: 54.5203083\ttotal: 1.43s\tremaining: 182ms\n",
      "133:\tlearn: 54.3673062\ttotal: 1.43s\tremaining: 171ms\n",
      "134:\tlearn: 54.2505343\ttotal: 1.44s\tremaining: 160ms\n",
      "135:\tlearn: 54.2185604\ttotal: 1.45s\tremaining: 149ms\n",
      "136:\tlearn: 54.0991961\ttotal: 1.46s\tremaining: 138ms\n",
      "137:\tlearn: 54.0065272\ttotal: 1.46s\tremaining: 127ms\n",
      "138:\tlearn: 53.9025299\ttotal: 1.47s\tremaining: 117ms\n",
      "139:\tlearn: 53.7650043\ttotal: 1.48s\tremaining: 106ms\n",
      "140:\tlearn: 53.6428396\ttotal: 1.49s\tremaining: 94.9ms\n",
      "141:\tlearn: 53.5449780\ttotal: 1.49s\tremaining: 84.1ms\n",
      "142:\tlearn: 53.4277539\ttotal: 1.5s\tremaining: 73.4ms\n",
      "143:\tlearn: 53.3426856\ttotal: 1.51s\tremaining: 62.8ms\n",
      "144:\tlearn: 53.2376884\ttotal: 1.51s\tremaining: 52.2ms\n",
      "145:\tlearn: 53.1551073\ttotal: 1.52s\tremaining: 41.7ms\n",
      "146:\tlearn: 53.0399161\ttotal: 1.53s\tremaining: 31.2ms\n",
      "147:\tlearn: 52.9495800\ttotal: 1.53s\tremaining: 20.7ms\n",
      "148:\tlearn: 52.8505704\ttotal: 1.54s\tremaining: 10.4ms\n",
      "149:\tlearn: 52.7629211\ttotal: 1.55s\tremaining: 0us\n"
     ]
    },
    {
     "data": {
      "text/plain": [
       "<catboost.core.CatBoostRegressor at 0x274ed83da00>"
      ]
     },
     "execution_count": 10,
     "metadata": {},
     "output_type": "execute_result"
    }
   ],
   "source": [
    "# Define a CatBoostRegressor model 'gsc1' with the best hyperparameters found and fit it to the training data\n",
    "# The model has a fixed number of iterations, a loss function of RMSE, a learning rate of 0.2, and a depth of 10\n",
    "gsc1 = cb.CatBoostRegressor(iterations = 150,\n",
    "                            loss_function='RMSE',\n",
    "                            learning_rate = 0.2,\n",
    "                            depth = 10,\n",
    "                            )\n",
    "gsc1.fit(X_train, y_train)"
   ]
  },
  {
   "cell_type": "code",
   "execution_count": 11,
   "metadata": {},
   "outputs": [
    {
     "name": "stdout",
     "output_type": "stream",
     "text": [
      "train: 52.76292110164058\n",
      "test: 67.7748939497004\n"
     ]
    }
   ],
   "source": [
    "# Predict the inventory units for the test and train sets using the trained CatBoostRegressor model 'gsc1'\n",
    "y_predicted_test = gsc1.predict(X_test)\n",
    "y_predicted_train = gsc1.predict(X_train)\n",
    "\n",
    "# Calculate the root mean squared error (RMSE) between the predicted and actual inventory units for the test and train sets\n",
    "# The 'squared' parameter is set to False to return the RMSE instead of the MSE\n",
    "rms_test = mean_squared_error(y_test, y_predicted_test, squared=False)\n",
    "rms_train = mean_squared_error(y_train, y_predicted_train, squared=False)\n",
    "\n",
    "# Print the RMSE values for the test and train sets\n",
    "print(f'train: {rms_train}\\ntest: {rms_test}')"
   ]
  },
  {
   "cell_type": "code",
   "execution_count": 12,
   "metadata": {},
   "outputs": [],
   "source": [
    "# Import the pandas library and read the \"test.csv\" file\n",
    "test_df = pd.read_csv(\"../Datasets/test.csv\")"
   ]
  },
  {
   "cell_type": "code",
   "execution_count": 13,
   "metadata": {},
   "outputs": [],
   "source": [
    "# Add new columns to the \"test_df\" DataFrame\n",
    "# The \"apply\" function is used to apply a lambda function to each element in the \"id\" column\n",
    "# The resulting values are stored in new columns named \"year\", \"nweek\", and \"product_number\"\n",
    "test_df[\"year\"] = test_df[\"id\"].apply(lambda x: x[:4]).astype(np.int64)\n",
    "test_df[\"nweek\"] = test_df[\"id\"].apply(lambda x: x[4:6]).astype(np.int64)\n",
    "test_df[\"product_number\"] = test_df[\"id\"].apply(lambda x: x.split('-')[1]).astype(np.int64)"
   ]
  },
  {
   "cell_type": "code",
   "execution_count": 14,
   "metadata": {},
   "outputs": [],
   "source": [
    "# Drop the 'nweek' and 'year' columns from the training set\n",
    "df_merge = X.drop(columns=[\"nweek\", \"year\"])\n",
    "\n",
    "# Remove duplicate rows from the training set\n",
    "df_merge = df_merge.drop_duplicates()\n",
    "\n",
    "# Reset the index of the test set and merge it with the training set on the 'product_number' column\n",
    "test_df = test_df.reset_index().merge(df_merge, on=['product_number']).set_index('index')\n"
   ]
  },
  {
   "cell_type": "code",
   "execution_count": 15,
   "metadata": {},
   "outputs": [],
   "source": [
    "# Sort test_df by its index in ascending order\n",
    "test_df = test_df.sort_index()"
   ]
  },
  {
   "cell_type": "code",
   "execution_count": 16,
   "metadata": {},
   "outputs": [],
   "source": [
    "# Select only the columns of X dataframe\n",
    "test_df = test_df[X.columns]"
   ]
  },
  {
   "cell_type": "code",
   "execution_count": 17,
   "metadata": {},
   "outputs": [],
   "source": [
    "# Remove ID column if necessary\n",
    "#test_df = test_df.drop(columns = [\"id\"])"
   ]
  },
  {
   "cell_type": "code",
   "execution_count": 18,
   "metadata": {},
   "outputs": [],
   "source": [
    "# Predict inventory units for the test set using the trained model\n",
    "y_predicted_test = gsc1.predict(test_df)\n",
    "\n",
    "# Load the original test data, to extract only the id column\n",
    "test_df_just_for_id = pd.read_csv('../Datasets/test.csv')"
   ]
  },
  {
   "cell_type": "code",
   "execution_count": 19,
   "metadata": {},
   "outputs": [
    {
     "data": {
      "text/plain": [
       "<AxesSubplot:ylabel='Count'>"
      ]
     },
     "execution_count": 19,
     "metadata": {},
     "output_type": "execute_result"
    },
    {
     "data": {
      "image/png": "[encoded data removed]",
      "text/plain": [
       "<Figure size 640x480 with 1 Axes>"
      ]
     },
     "metadata": {},
     "output_type": "display_data"
    }
   ],
   "source": [
    "# Create a histogram plot of the predicted values\n",
    "sns.histplot(y_predicted_test)"
   ]
  },
  {
   "cell_type": "code",
   "execution_count": 20,
   "metadata": {},
   "outputs": [
    {
     "data": {
      "text/html": [
       "<div>\n",
       "<style scoped>\n",
       "    .dataframe tbody tr th:only-of-type {\n",
       "        vertical-align: middle;\n",
       "    }\n",
       "\n",
       "    .dataframe tbody tr th {\n",
       "        vertical-align: top;\n",
       "    }\n",
       "\n",
       "    .dataframe thead th {\n",
       "        text-align: right;\n",
       "    }\n",
       "</style>\n",
       "<table border=\"1\" class=\"dataframe\">\n",
       "  <thead>\n",
       "    <tr style=\"text-align: right;\">\n",
       "      <th></th>\n",
       "      <th>id</th>\n",
       "      <th>inventory_units</th>\n",
       "    </tr>\n",
       "  </thead>\n",
       "  <tbody>\n",
       "    <tr>\n",
       "      <th>0</th>\n",
       "      <td>202319-105609</td>\n",
       "      <td>78.248344</td>\n",
       "    </tr>\n",
       "    <tr>\n",
       "      <th>1</th>\n",
       "      <td>202319-107583</td>\n",
       "      <td>290.226380</td>\n",
       "    </tr>\n",
       "    <tr>\n",
       "      <th>2</th>\n",
       "      <td>202319-10857</td>\n",
       "      <td>155.607467</td>\n",
       "    </tr>\n",
       "    <tr>\n",
       "      <th>3</th>\n",
       "      <td>202319-109557</td>\n",
       "      <td>99.758329</td>\n",
       "    </tr>\n",
       "    <tr>\n",
       "      <th>4</th>\n",
       "      <td>202319-112518</td>\n",
       "      <td>170.330769</td>\n",
       "    </tr>\n",
       "    <tr>\n",
       "      <th>...</th>\n",
       "      <td>...</td>\n",
       "      <td>...</td>\n",
       "    </tr>\n",
       "    <tr>\n",
       "      <th>1295</th>\n",
       "      <td>202331-92778</td>\n",
       "      <td>108.993081</td>\n",
       "    </tr>\n",
       "    <tr>\n",
       "      <th>1296</th>\n",
       "      <td>202331-93765</td>\n",
       "      <td>123.062787</td>\n",
       "    </tr>\n",
       "    <tr>\n",
       "      <th>1297</th>\n",
       "      <td>202331-94752</td>\n",
       "      <td>171.009331</td>\n",
       "    </tr>\n",
       "    <tr>\n",
       "      <th>1298</th>\n",
       "      <td>202331-9870</td>\n",
       "      <td>138.614608</td>\n",
       "    </tr>\n",
       "    <tr>\n",
       "      <th>1299</th>\n",
       "      <td>202331-99687</td>\n",
       "      <td>190.866434</td>\n",
       "    </tr>\n",
       "  </tbody>\n",
       "</table>\n",
       "<p>1300 rows × 2 columns</p>\n",
       "</div>"
      ],
      "text/plain": [
       "                 id  inventory_units\n",
       "0     202319-105609        78.248344\n",
       "1     202319-107583       290.226380\n",
       "2      202319-10857       155.607467\n",
       "3     202319-109557        99.758329\n",
       "4     202319-112518       170.330769\n",
       "...             ...              ...\n",
       "1295   202331-92778       108.993081\n",
       "1296   202331-93765       123.062787\n",
       "1297   202331-94752       171.009331\n",
       "1298    202331-9870       138.614608\n",
       "1299   202331-99687       190.866434\n",
       "\n",
       "[1300 rows x 2 columns]"
      ]
     },
     "execution_count": 20,
     "metadata": {},
     "output_type": "execute_result"
    }
   ],
   "source": [
    "# Create a Pandas DataFrame with the predicted inventory units for the test dataset\n",
    "submission = pd.DataFrame({\n",
    "    'id' : test_df_just_for_id.id,\n",
    "    'inventory_units' : y_predicted_test\n",
    "})\n",
    "submission"
   ]
  },
  {
   "cell_type": "code",
   "execution_count": 21,
   "metadata": {},
   "outputs": [],
   "source": [
    "# Save the submission DataFrame as a CSV file\n",
    "submission.to_csv('../submissions/submission4.csv', index = False)\n",
    "\n",
    "# Save the model\n",
    "pickle.dump(gsc1, open('../checkpoints/model_catboost.pkl', 'wb'))"
   ]
  }
 ],
 "metadata": {
  "kernelspec": {
   "display_name": "base",
   "language": "python",
   "name": "python3"
  },
  "language_info": {
   "codemirror_mode": {
    "name": "ipython",
    "version": 3
   },
   "file_extension": ".py",
   "mimetype": "text/x-python",
   "name": "python",
   "nbconvert_exporter": "python",
   "pygments_lexer": "ipython3",
   "version": "3.9.13"
  },
  "orig_nbformat": 4
 },
 "nbformat": 4,
 "nbformat_minor": 2
}
